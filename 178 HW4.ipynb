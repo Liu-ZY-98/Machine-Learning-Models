{
 "cells": [
  {
   "cell_type": "markdown",
   "metadata": {},
   "source": [
    "### Zhiyuan Liu's Solution"
   ]
  },
  {
   "cell_type": "code",
   "execution_count": 1,
   "metadata": {},
   "outputs": [],
   "source": [
    "import numpy as np\n",
    "import matplotlib.pyplot as plt\n",
    "import mltools as ml\n",
    "\n",
    "np.random.seed(0)\n",
    "%matplotlib inline"
   ]
  },
  {
   "cell_type": "markdown",
   "metadata": {},
   "source": [
    "# Problem 1: Setting up the data and Linear Classifier"
   ]
  },
  {
   "cell_type": "code",
   "execution_count": 5,
   "metadata": {},
   "outputs": [
    {
     "name": "stdout",
     "output_type": "stream",
     "text": [
      "(200000, 14)\n",
      "(200000,)\n"
     ]
    }
   ],
   "source": [
    "# Data Loading\n",
    "X = np.genfromtxt('data/X_train.txt', delimiter=None) \n",
    "Y = np.genfromtxt('data/Y_train.txt', delimiter=None) \n",
    "X,Y = ml.shuffleData(X,Y)\n",
    "\n",
    "print(X.shape)\n",
    "print(Y.shape)"
   ]
  },
  {
   "cell_type": "markdown",
   "metadata": {},
   "source": [
    "## Q1"
   ]
  },
  {
   "cell_type": "code",
   "execution_count": 8,
   "metadata": {},
   "outputs": [
    {
     "name": "stdout",
     "output_type": "stream",
     "text": [
      "min =  [ 1.9350e+02  1.5250e+02  2.1425e+02  1.5250e+02  1.0000e+01  0.0000e+00\n",
      "  0.0000e+00  0.0000e+00  8.7589e-01  0.0000e+00  0.0000e+00  0.0000e+00\n",
      "  9.9049e-01 -9.9990e+02]\n",
      "max =  [2.5300e+02 2.4900e+02 2.5250e+02 2.5250e+02 3.1048e+04 1.3630e+04\n",
      " 9.2380e+03 1.2517e+02 1.9167e+01 1.3230e+01 6.6761e+01 7.3902e+01\n",
      " 9.7504e+02 7.9720e+02]\n",
      "mean =  [2.41601104e+02 2.27376571e+02 2.41554150e+02 2.32826768e+02\n",
      " 3.08992337e+03 9.28259020e+02 1.38093830e+02 3.24857933e+00\n",
      " 6.49865290e+00 2.09713912e+00 4.21766041e+00 2.69171845e+00\n",
      " 1.02715905e+01 5.78148050e+00]\n",
      "var =  [8.34991711e+01 9.26255931e+01 3.52863398e+01 9.76257317e+01\n",
      " 1.56515138e+07 3.08176182e+06 4.43951746e+05 8.21948502e+00\n",
      " 6.40504819e+00 4.36344047e+00 4.08637188e+00 2.19877847e+00\n",
      " 4.04646245e+02 3.40652055e+03]\n"
     ]
    }
   ],
   "source": [
    "print('min = ', np.min(X, axis = 0))\n",
    "print('max = ', np.max(X, axis = 0))\n",
    "print('mean = ', np.mean(X, axis = 0))\n",
    "print('var = ', np.var(X, axis = 0))"
   ]
  },
  {
   "cell_type": "markdown",
   "metadata": {},
   "source": [
    "## Q2"
   ]
  },
  {
   "cell_type": "code",
   "execution_count": 23,
   "metadata": {},
   "outputs": [
    {
     "name": "stdout",
     "output_type": "stream",
     "text": [
      "(160000, 14)\n",
      "(40000,)\n",
      "(5000, 14)\n",
      "(40000, 14)\n"
     ]
    }
   ],
   "source": [
    "Xtr, Xva, Ytr, Yva = ml.splitData(X, Y)\n",
    "Xt, Yt = Xtr[:5000], Ytr[:5000] # subsample for efficiency (you can go higher)\n",
    "XtS, params = ml.rescale(Xt) # Normalize the features \n",
    "XvS, _ = ml.rescale(Xva, params) # Normalize the features\n",
    "\n",
    "print(Xtr.shape)\n",
    "print(Yva.shape)\n",
    "print(XtS.shape)\n",
    "print(XvS.shape)\n"
   ]
  },
  {
   "cell_type": "code",
   "execution_count": 20,
   "metadata": {},
   "outputs": [
    {
     "name": "stdout",
     "output_type": "stream",
     "text": [
      "Training:\n",
      "min =  [ -4.44388405  -3.97613598  -4.50170696  -2.82054574  -0.79098017\n",
      "  -0.52341183  -0.198389    -1.13489794  -2.11086267  -0.99993405\n",
      "  -2.12660763  -1.89052581  -0.47756894 -16.92686545]\n",
      "max =  [ 1.25457608  1.78066768  1.77730571  1.95354925  7.36935003  7.61180462\n",
      " 13.74708956  8.91028803  4.27660806  4.52186562  6.98719275 13.47745335\n",
      " 49.48790281 12.52637108]\n",
      "mean =  [-3.20894422e-15  2.51438870e-15 -5.42410783e-14 -2.71676903e-14\n",
      " -6.75903777e-17  1.39488421e-16 -3.14159809e-16 -4.05797618e-16\n",
      " -9.99333949e-16  7.18980431e-16 -8.49142978e-16 -3.18949311e-15\n",
      "  1.15223386e-15  4.02078371e-16]\n",
      "var =  [1. 1. 1. 1. 1. 1. 1. 1. 1. 1. 1. 1. 1. 1.]\n"
     ]
    }
   ],
   "source": [
    "print('Training:')\n",
    "print('min = ', np.min(XtS, axis = 0))\n",
    "print('max = ', np.max(XtS, axis = 0))\n",
    "print('mean = ', np.mean(XtS, axis = 0))\n",
    "print('var = ', np.var(XtS, axis = 0))"
   ]
  },
  {
   "cell_type": "code",
   "execution_count": 21,
   "metadata": {},
   "outputs": [
    {
     "name": "stdout",
     "output_type": "stream",
     "text": [
      "Validation:\n",
      "min =  [ -5.32908174  -3.97613598  -4.55792167  -2.92268726  -0.7912431\n",
      "  -0.52341183  -0.198389    -1.13489794  -2.22290153  -0.99993405\n",
      "  -2.12660763  -1.89052581  -0.47939007 -16.92686545]\n",
      "max =  [ 1.25457608  2.25600009  1.83522389  1.98827737  7.36935003  7.61180462\n",
      " 13.74708956  8.91028803  4.78082507  5.4896644  13.55449008 38.16432873\n",
      " 49.48790281 13.17796901]\n",
      "mean =  [-0.01046472 -0.03135781 -0.03678486 -0.02251483  0.01750273  0.03520212\n",
      "  0.01888531 -0.00737174  0.03571879  0.03331622  0.03494385  0.04670989\n",
      " -0.00817653  0.00486745]\n",
      "var =  [1.03312196 1.05095611 1.04891268 1.02666459 1.08238603 1.1212983\n",
      " 1.06447592 0.96514949 1.04667444 1.0686109  1.07520744 1.25634665\n",
      " 0.92717743 1.00017888]\n"
     ]
    }
   ],
   "source": [
    "print('Validation:')\n",
    "print('min = ', np.min(XvS, axis = 0))\n",
    "print('max = ', np.max(XvS, axis = 0))\n",
    "print('mean = ', np.mean(XvS, axis = 0))\n",
    "print('var = ', np.var(XvS, axis = 0))"
   ]
  },
  {
   "cell_type": "markdown",
   "metadata": {},
   "source": [
    "## Q3"
   ]
  },
  {
   "cell_type": "code",
   "execution_count": 32,
   "metadata": {},
   "outputs": [
    {
     "name": "stdout",
     "output_type": "stream",
     "text": [
      "[0.66151794 0.61708233 0.60264192 0.59046973 0.58310286 0.50953539\n",
      " 0.50953539 0.50953539 0.50953539 0.50953539]\n",
      "[0.65146811 0.60312207 0.58513866 0.57224215 0.56496986 0.49933836\n",
      " 0.49933836 0.49933836 0.49933836 0.49933836]\n"
     ]
    }
   ],
   "source": [
    "reg_value = np.linspace(0,8,10)\n",
    "\n",
    "training_auc = np.zeros(10)\n",
    "validation_auc = np.zeros(10)\n",
    "\n",
    "for i, r in enumerate(reg_value):\n",
    "    learner = ml.linearC.linearClassify()\n",
    "    learner.train(XtS, Yt, reg=r, initStep=0.5, stopTol=1e-6, stopIter=100) \n",
    "    training_auc[i] = learner.auc(XtS, Yt) # train AUC\n",
    "    validation_auc[i] = learner.auc(XvS, Yva)\n",
    "    \n",
    "print(training_auc)\n",
    "print(validation_auc)\n",
    "\n"
   ]
  },
  {
   "cell_type": "code",
   "execution_count": 43,
   "metadata": {},
   "outputs": [
    {
     "data": {
      "image/png": "[encoded data removed]",
      "text/plain": [
       "<Figure size 432x288 with 1 Axes>"
      ]
     },
     "metadata": {
      "needs_background": "light"
     },
     "output_type": "display_data"
    }
   ],
   "source": [
    "plt.plot(reg_value, training_auc, color = 'blue', label = 'Training AUC', marker = 'o')\n",
    "plt.plot(reg_value, validation_auc, color = 'green', label = 'Validation AUC', marker = 'o')\n",
    "\n",
    "plt.xticks(reg_value)\n",
    "plt.xlabel('regularization weight')\n",
    "plt.ylabel('AUC')\n",
    "\n",
    "plt.legend()\n",
    "plt.show()"
   ]
  },
  {
   "cell_type": "markdown",
   "metadata": {},
   "source": [
    "## Q4"
   ]
  },
  {
   "cell_type": "code",
   "execution_count": 45,
   "metadata": {},
   "outputs": [
    {
     "name": "stdout",
     "output_type": "stream",
     "text": [
      "(5000, 119)\n"
     ]
    }
   ],
   "source": [
    "degree = 2\n",
    "XtrP = ml.transforms.fpoly(Xt, degree, False)\n",
    "\n",
    "print(XtrP.shape)"
   ]
  },
  {
   "cell_type": "code",
   "execution_count": 46,
   "metadata": {},
   "outputs": [
    {
     "name": "stdout",
     "output_type": "stream",
     "text": [
      "Number of features =  119\n"
     ]
    }
   ],
   "source": [
    "print('Number of features = ', XtrP.shape[1])"
   ]
  },
  {
   "cell_type": "markdown",
   "metadata": {},
   "source": [
    "## Q5"
   ]
  },
  {
   "cell_type": "code",
   "execution_count": 59,
   "metadata": {},
   "outputs": [
    {
     "name": "stdout",
     "output_type": "stream",
     "text": [
      "(40000, 119)\n"
     ]
    }
   ],
   "source": [
    "XtrP,params = ml.transforms.rescale(XtrP)\n",
    "XvaP,_ = ml.transforms.rescale(ml.transforms.fpoly(Xva,degree,False), params)\n",
    "print(XvaP.shape)"
   ]
  },
  {
   "cell_type": "code",
   "execution_count": 55,
   "metadata": {},
   "outputs": [
    {
     "name": "stderr",
     "output_type": "stream",
     "text": [
      "/Users/zhiyuanliu/Documents/Classes/CS 178/hw178/178HW4/mltools/base.py:96: RuntimeWarning: divide by zero encountered in log\n",
      "  return - np.mean( np.log( P[ np.arange(M), Y ] ) ) # evaluate\n",
      "/Users/zhiyuanliu/Documents/Classes/CS 178/hw178/178HW4/mltools/linearC.py:134: RuntimeWarning: invalid value encountered in double_scalars\n",
      "  done = (it > stopIter) or ( (it>1) and (abs(Jsur[-1]-Jsur[-2])<stopTol) )\n",
      "/Users/zhiyuanliu/Documents/Classes/CS 178/hw178/178HW4/mltools/linearC.py:84: RuntimeWarning: invalid value encountered in true_divide\n",
      "  prob /= prob + 1.0       # logistic transform (binary classification; C=1)\n"
     ]
    },
    {
     "name": "stdout",
     "output_type": "stream",
     "text": [
      "[0.61734116 0.57458994 0.55444619 0.55201911 0.55666876 0.50953539\n",
      " 0.50953539 0.50953539 0.50953539 0.50953539]\n",
      "[0.54007041 0.49515319 0.47705685 0.4545484  0.44423999 0.49933836\n",
      " 0.49933836 0.49933836 0.49933836 0.49933836]\n"
     ]
    }
   ],
   "source": [
    "reg_value = np.linspace(0,8,10)\n",
    "\n",
    "training_auc = np.zeros(10)\n",
    "validation_auc = np.zeros(10)\n",
    "\n",
    "for i, r in enumerate(reg_value):\n",
    "    learner = ml.linearC.linearClassify()\n",
    "    learner.train(XtrP, Yt, reg=r, initStep=0.5, stopTol=1e-6, stopIter=100) \n",
    "    training_auc[i] = learner.auc(XtrP, Yt) # train AUC\n",
    "    validation_auc[i] = learner.auc(XvaP, Yva)\n",
    "    \n",
    "print(training_auc)\n",
    "print(validation_auc)"
   ]
  },
  {
   "cell_type": "code",
   "execution_count": 56,
   "metadata": {},
   "outputs": [
    {
     "data": {
      "image/png": "[encoded data removed]",
      "text/plain": [
       "<Figure size 432x288 with 1 Axes>"
      ]
     },
     "metadata": {
      "needs_background": "light"
     },
     "output_type": "display_data"
    }
   ],
   "source": [
    "plt.plot(reg_value, training_auc, color = 'blue', label = 'Training AUC', marker = 'o')\n",
    "plt.plot(reg_value, validation_auc, color = 'green', label = 'Validation AUC', marker = 'o')\n",
    "\n",
    "plt.xticks(reg_value)\n",
    "plt.xlabel('regularization weight')\n",
    "plt.ylabel('AUC')\n",
    "\n",
    "plt.legend()\n",
    "plt.show()"
   ]
  },
  {
   "cell_type": "markdown",
   "metadata": {},
   "source": [
    "# Problem 2: Nearest Neighbor"
   ]
  },
  {
   "cell_type": "markdown",
   "metadata": {},
   "source": [
    "## Q1"
   ]
  },
  {
   "cell_type": "code",
   "execution_count": 61,
   "metadata": {},
   "outputs": [
    {
     "name": "stdout",
     "output_type": "stream",
     "text": [
      "[0.99717752 0.9178101  0.86756235 0.82087064 0.78516166 0.75659512\n",
      " 0.73135687]\n",
      "[0.56998478 0.59581769 0.60664543 0.61946638 0.63150742 0.63960391\n",
      " 0.64472525]\n"
     ]
    }
   ],
   "source": [
    "K_num = np.array([1,2,3,5,8,13,21])\n",
    "training_auc = np.zeros(7)\n",
    "validation_auc = np.zeros(7)\n",
    "\n",
    "learner = ml.knn.knnClassify()\n",
    "for i, k in enumerate(K_num):\n",
    "    learner.train(XtS, Yt, K=k, alpha=0.0)\n",
    "    training_auc[i] = learner.auc(XtS, Yt) # train AUC\n",
    "    validation_auc[i] = learner.auc(XvS, Yva)\n",
    "\n",
    "print(training_auc)\n",
    "print(validation_auc)"
   ]
  },
  {
   "cell_type": "code",
   "execution_count": 63,
   "metadata": {},
   "outputs": [
    {
     "data": {
      "image/png": "[encoded data removed]",
      "text/plain": [
       "<Figure size 432x288 with 1 Axes>"
      ]
     },
     "metadata": {
      "needs_background": "light"
     },
     "output_type": "display_data"
    }
   ],
   "source": [
    "plt.plot(K_num, training_auc, color = 'blue', label = 'Training AUC', marker = 'o')\n",
    "plt.plot(K_num, validation_auc, color = 'green', label = 'Validation AUC', marker = 'o')\n",
    "\n",
    "plt.xticks(K_num)\n",
    "plt.xlabel('K value')\n",
    "plt.ylabel('AUC')\n",
    "\n",
    "plt.legend()\n",
    "plt.show()"
   ]
  },
  {
   "cell_type": "markdown",
   "metadata": {},
   "source": [
    "## Q2"
   ]
  },
  {
   "cell_type": "code",
   "execution_count": 64,
   "metadata": {},
   "outputs": [
    {
     "name": "stdout",
     "output_type": "stream",
     "text": [
      "[0.99704076 0.91211207 0.86035488 0.79513526 0.74566345 0.71339296\n",
      " 0.69019381]\n",
      "[0.55932082 0.5731827  0.57892934 0.57757238 0.58228176 0.58856514\n",
      " 0.59681686]\n"
     ]
    }
   ],
   "source": [
    "K_num = np.array([1,2,3,5,8,13,21])\n",
    "training_auc = np.zeros(7)\n",
    "validation_auc = np.zeros(7)\n",
    "\n",
    "learner = ml.knn.knnClassify()\n",
    "for i, k in enumerate(K_num):\n",
    "    learner.train(Xt, Yt, K=k, alpha=0.0)\n",
    "    training_auc[i] = learner.auc(Xt, Yt) # train AUC\n",
    "    validation_auc[i] = learner.auc(Xva[:5000], Yva[:5000])\n",
    "\n",
    "print(training_auc)\n",
    "print(validation_auc)"
   ]
  },
  {
   "cell_type": "code",
   "execution_count": 65,
   "metadata": {},
   "outputs": [
    {
     "data": {
      "image/png": "[encoded data removed]",
      "text/plain": [
       "<Figure size 432x288 with 1 Axes>"
      ]
     },
     "metadata": {
      "needs_background": "light"
     },
     "output_type": "display_data"
    }
   ],
   "source": [
    "plt.plot(K_num, training_auc, color = 'blue', label = 'Training AUC', marker = 'o')\n",
    "plt.plot(K_num, validation_auc, color = 'green', label = 'Validation AUC', marker = 'o')\n",
    "\n",
    "plt.xticks(K_num)\n",
    "plt.xlabel('K value')\n",
    "plt.ylabel('AUC')\n",
    "\n",
    "plt.legend()\n",
    "plt.show()"
   ]
  },
  {
   "cell_type": "markdown",
   "metadata": {},
   "source": [
    "## Q3"
   ]
  },
  {
   "cell_type": "code",
   "execution_count": 69,
   "metadata": {},
   "outputs": [
    {
     "name": "stdout",
     "output_type": "stream",
     "text": [
      "[[0.99717752 0.99717752 0.99717752 0.99717752 0.99717752]\n",
      " [0.9178101  0.99998266 0.99998266 0.99998266 0.99998266]\n",
      " [0.86756235 0.9693971  0.9845296  0.99323004 0.9968849 ]\n",
      " [0.84047808 0.9472222  0.97464259 0.98944692 0.99528401]\n",
      " [0.82087064 0.93133676 0.96761947 0.98622514 0.99380377]\n",
      " [0.80532956 0.91786831 0.96143651 0.98322804 0.99249089]\n",
      " [0.79516003 0.90770196 0.95638952 0.98067907 0.99127815]\n",
      " [0.78516166 0.89935676 0.95200241 0.97857114 0.99032299]\n",
      " [0.77838728 0.89248101 0.94795338 0.97658617 0.98939614]]\n",
      "[[0.57773161 0.57773161 0.57773161 0.57751119 0.57751119]\n",
      " [0.60751944 0.60960162 0.60961928 0.60936746 0.60936826]\n",
      " [0.62280795 0.62381362 0.62358053 0.6225836  0.62164536]\n",
      " [0.62911594 0.63138446 0.62991493 0.62785068 0.62638035]\n",
      " [0.63107653 0.63457516 0.63198061 0.62957462 0.62727345]\n",
      " [0.63934583 0.64017542 0.63625744 0.63253286 0.62948792]\n",
      " [0.64227223 0.64334882 0.63765151 0.63376645 0.6300879 ]\n",
      " [0.64323892 0.64476358 0.63860063 0.63443538 0.63050314]\n",
      " [0.64497882 0.64663051 0.64025106 0.63510075 0.63064889]]\n"
     ]
    }
   ],
   "source": [
    "K = range(1,10,1) # Or something else \n",
    "A = range(0,5,1) # Or something else \n",
    "\n",
    "tr_auc = np.zeros((len(K),len(A))) \n",
    "va_auc = np.zeros((len(K),len(A))) \n",
    "\n",
    "learner = ml.knn.knnClassify()\n",
    "for i,k in enumerate(K):\n",
    "    for j,a in enumerate(A):\n",
    "        learner.train(XtS, Yt, K=k, alpha=a)\n",
    "        tr_auc[i][j] = learner.auc(XtS, Yt) # train learner using k and a \n",
    "        va_auc[i][j] = learner.auc(XvS[:5000], Yva[:5000])\n",
    "        \n",
    "print(tr_auc)\n",
    "print(va_auc)"
   ]
  },
  {
   "cell_type": "code",
   "execution_count": 77,
   "metadata": {},
   "outputs": [
    {
     "data": {
      "image/png": "[encoded data removed]",
      "text/plain": [
       "<Figure size 576x360 with 2 Axes>"
      ]
     },
     "metadata": {
      "needs_background": "light"
     },
     "output_type": "display_data"
    }
   ],
   "source": [
    "# Now plot it\n",
    "f, ax = plt.subplots(1, 1, figsize=(8, 5))\n",
    "cax = ax.matshow(tr_auc, interpolation='nearest') \n",
    "f.colorbar(cax)\n",
    "ax.set_xticklabels(['']+list(A)) \n",
    "ax.set_yticklabels(['']+list(K))\n",
    "ax.set_title('Training AUC for Scaled')\n",
    "ax.set_xlabel('A Value')\n",
    "ax.set_ylabel('K Value')\n",
    "plt.show()"
   ]
  },
  {
   "cell_type": "code",
   "execution_count": 75,
   "metadata": {},
   "outputs": [
    {
     "data": {
      "image/png": "[encoded data removed]",
      "text/plain": [
       "<Figure size 576x360 with 2 Axes>"
      ]
     },
     "metadata": {
      "needs_background": "light"
     },
     "output_type": "display_data"
    }
   ],
   "source": [
    "# Now plot it\n",
    "f, ax = plt.subplots(1, 1, figsize=(8, 5))\n",
    "cax = ax.matshow(va_auc, interpolation='nearest') \n",
    "f.colorbar(cax)\n",
    "ax.set_xticklabels(['']+list(A)) \n",
    "ax.set_yticklabels(['']+list(K))\n",
    "ax.set_title('Validation AUC for Scaled')\n",
    "ax.set_xlabel('A Value')\n",
    "ax.set_ylabel('K Value')\n",
    "plt.show()"
   ]
  },
  {
   "cell_type": "markdown",
   "metadata": {},
   "source": [
    "k = 9, a = 1"
   ]
  },
  {
   "cell_type": "markdown",
   "metadata": {},
   "source": [
    "# Problem 3: Decision Trees"
   ]
  },
  {
   "cell_type": "markdown",
   "metadata": {},
   "source": [
    "## Q1"
   ]
  },
  {
   "cell_type": "code",
   "execution_count": 81,
   "metadata": {},
   "outputs": [
    {
     "name": "stdout",
     "output_type": "stream",
     "text": [
      "[0.59802421 0.65497753 0.70465519 0.75494991 0.81603585 0.87513063\n",
      " 0.92641218 0.95107768 0.96863956 0.98242034]\n",
      "[0.60093708 0.6325335  0.63628392 0.63045846 0.61395721 0.60884357\n",
      " 0.59644889 0.59372132 0.58965459 0.58608085]\n"
     ]
    }
   ],
   "source": [
    "max_depth = np.array(range(1,20,2))\n",
    "\n",
    "training_auc = np.zeros(max_depth.shape[0])\n",
    "validation_auc = np.zeros(max_depth.shape[0])\n",
    "\n",
    "learner = ml.dtree.treeClassify()\n",
    "for i, d in enumerate(max_depth):\n",
    "    learner.train(XtS, Yt, maxDepth=d, minParent=2, minLeaf=1)\n",
    "    training_auc[i] = learner.auc(XtS, Yt) # train AUC\n",
    "    validation_auc[i] = learner.auc(XvS, Yva)\n",
    "\n",
    "print(training_auc)\n",
    "print(validation_auc)"
   ]
  },
  {
   "cell_type": "code",
   "execution_count": 82,
   "metadata": {},
   "outputs": [
    {
     "data": {
      "image/png": "[encoded data removed]",
      "text/plain": [
       "<Figure size 432x288 with 1 Axes>"
      ]
     },
     "metadata": {
      "needs_background": "light"
     },
     "output_type": "display_data"
    }
   ],
   "source": [
    "plt.plot(max_depth, training_auc, color = 'blue', label = 'Training AUC', marker = 'o')\n",
    "plt.plot(max_depth, validation_auc, color = 'green', label = 'Validation AUC', marker = 'o')\n",
    "\n",
    "plt.xticks(max_depth)\n",
    "plt.xlabel('max depth')\n",
    "plt.ylabel('AUC')\n",
    "\n",
    "plt.legend()\n",
    "plt.show()"
   ]
  },
  {
   "cell_type": "markdown",
   "metadata": {},
   "source": [
    "## Q2"
   ]
  },
  {
   "cell_type": "code",
   "execution_count": 89,
   "metadata": {},
   "outputs": [
    {
     "name": "stdout",
     "output_type": "stream",
     "text": [
      "[3.000e+00 6.300e+01 6.350e+02 2.563e+03 5.115e+03 7.115e+03 8.245e+03\n",
      " 9.073e+03 9.435e+03 9.739e+03]\n",
      "[3.000e+00 6.300e+01 5.230e+02 1.709e+03 3.129e+03 3.867e+03 4.471e+03\n",
      " 4.863e+03 5.035e+03 5.095e+03]\n"
     ]
    }
   ],
   "source": [
    "## Plot the number of nodes in the tree as maxDepth is varied:\n",
    "max_depth = np.array(range(1,40,4))\n",
    "node_num = np.zeros(maxd.shape[0])\n",
    "\n",
    "learner = ml.dtree.treeClassify()\n",
    "for i, d in enumerate(max_depth): \n",
    "    learner.train(XtS, Yt, maxDepth=d, minParent=2)\n",
    "    node_num[i] = learner.sz\n",
    "\n",
    "node_num1 = np.zeros(maxd.shape[0])\n",
    "\n",
    "for i, d in enumerate(max_depth): \n",
    "    learner.train(XtS, Yt, maxDepth=d, minParent=5)\n",
    "    node_num1[i] = learner.sz\n",
    "\n",
    "print(node_num)\n",
    "print(node_num1)"
   ]
  },
  {
   "cell_type": "code",
   "execution_count": 90,
   "metadata": {},
   "outputs": [
    {
     "data": {
      "image/png": "[encoded data removed]",
      "text/plain": [
       "<Figure size 432x288 with 1 Axes>"
      ]
     },
     "metadata": {
      "needs_background": "light"
     },
     "output_type": "display_data"
    }
   ],
   "source": [
    "plt.plot(max_depth, node_num, color = 'blue', label = 'Min Parent = 2', marker = 'o')\n",
    "plt.plot(max_depth, node_num1, color = 'green', label = 'Min Parent = 5', marker = 'o')\n",
    "\n",
    "plt.xticks(max_depth)\n",
    "plt.xlabel('max depth')\n",
    "plt.ylabel('node number')\n",
    "\n",
    "plt.legend()\n",
    "plt.show()"
   ]
  },
  {
   "cell_type": "markdown",
   "metadata": {},
   "source": [
    "## Q3"
   ]
  },
  {
   "cell_type": "code",
   "execution_count": 103,
   "metadata": {},
   "outputs": [
    {
     "name": "stdout",
     "output_type": "stream",
     "text": [
      "[[0.85099004 0.84650165 0.83969453 0.83198277 0.83195358]\n",
      " [0.85222622 0.84668988 0.84112072 0.83074774 0.83194527]\n",
      " [0.84610155 0.8442774  0.84028251 0.83197464 0.83195199]\n",
      " [0.8436406  0.84100449 0.84020192 0.83109838 0.83194792]\n",
      " [0.83830063 0.83630699 0.83573529 0.83084424 0.83195871]]\n",
      "[[0.6223283  0.61911708 0.62102201 0.62442011 0.61879435]\n",
      " [0.62000902 0.61753533 0.61994052 0.6248333  0.61906713]\n",
      " [0.62266406 0.6234866  0.62012945 0.62439398 0.61893734]\n",
      " [0.62234525 0.62083638 0.62246434 0.62482741 0.61987335]\n",
      " [0.62707471 0.62513454 0.62069803 0.62449469 0.61927899]]\n"
     ]
    }
   ],
   "source": [
    "P = range(1,16,3) # Or something else \n",
    "L = range(1,11,2) # Or something else \n",
    "\n",
    "tr_auc = np.zeros((len(P),len(L))) \n",
    "va_auc = np.zeros((len(P),len(L))) \n",
    "\n",
    "learner = ml.dtree.treeClassify()\n",
    "for i,p in enumerate(P):\n",
    "    for j,l in enumerate(L):\n",
    "        learner.train(XtS, Yt, maxDepth=10, minParent=p, minLeaf=l)\n",
    "        tr_auc[i][j] = learner.auc(XtS, Yt) # train learner using k and a \n",
    "        va_auc[i][j] = learner.auc(XvS[:5000], Yva[:5000])\n",
    "        \n",
    "print(tr_auc)\n",
    "print(va_auc)"
   ]
  },
  {
   "cell_type": "code",
   "execution_count": 106,
   "metadata": {},
   "outputs": [
    {
     "data": {
      "image/png": "[encoded data removed]",
      "text/plain": [
       "<Figure size 576x360 with 2 Axes>"
      ]
     },
     "metadata": {
      "needs_background": "light"
     },
     "output_type": "display_data"
    }
   ],
   "source": [
    "f, ax = plt.subplots(1, 1, figsize=(8, 5))\n",
    "\n",
    "cax = ax.matshow(tr_auc, interpolation='nearest')\n",
    "f.colorbar(cax1)\n",
    "ax.set_xticklabels(['']+list(L))\n",
    "ax.set_yticklabels(['']+list(P))\n",
    "ax.set_xlabel('min Leaf')\n",
    "ax.set_ylabel('min Parent')\n",
    "ax.set_title('Training AUC')\n",
    "\n",
    "plt.show()\n"
   ]
  },
  {
   "cell_type": "code",
   "execution_count": 107,
   "metadata": {},
   "outputs": [
    {
     "data": {
      "image/png": "[encoded data removed]",
      "text/plain": [
       "<Figure size 576x360 with 2 Axes>"
      ]
     },
     "metadata": {
      "needs_background": "light"
     },
     "output_type": "display_data"
    }
   ],
   "source": [
    "f, ax = plt.subplots(1, 1, figsize=(8, 5))\n",
    "\n",
    "cax = ax.matshow(va_auc, interpolation='nearest')\n",
    "f.colorbar(cax1)\n",
    "ax.set_xticklabels(['']+list(L))\n",
    "ax.set_yticklabels(['']+list(P))\n",
    "ax.set_xlabel('min Leaf')\n",
    "ax.set_ylabel('min Parent')\n",
    "ax.set_title('Validation AUC')\n",
    "\n",
    "plt.show()"
   ]
  },
  {
   "cell_type": "markdown",
   "metadata": {},
   "source": [
    "min parent = 13, min leaf = 1"
   ]
  },
  {
   "cell_type": "markdown",
   "metadata": {},
   "source": [
    "# Problem 4: Neural Networks and Conclusion"
   ]
  },
  {
   "cell_type": "markdown",
   "metadata": {},
   "source": [
    "## Q1"
   ]
  },
  {
   "cell_type": "code",
   "execution_count": 108,
   "metadata": {},
   "outputs": [
    {
     "name": "stdout",
     "output_type": "stream",
     "text": [
      "it 1 : Jsur = 0.4321604749706381, J01 = 0.3454\n",
      "it 2 : Jsur = 0.42612752933713643, J01 = 0.3454\n",
      "it 4 : Jsur = 0.42592009333627046, J01 = 0.3296\n",
      "it 8 : Jsur = 0.4263831239356833, J01 = 0.3368\n",
      "it 16 : Jsur = 0.4267765674944996, J01 = 0.338\n",
      "it 32 : Jsur = 0.4273177167834803, J01 = 0.3454\n",
      "it 64 : Jsur = 0.42775216846794284, J01 = 0.3454\n",
      "it 128 : Jsur = 0.42820687644452726, J01 = 0.3454\n",
      "it 256 : Jsur = 0.42852511530903203, J01 = 0.3454\n",
      "it 1 : Jsur = 0.4307475631414062, J01 = 0.3454\n",
      "it 2 : Jsur = 0.42430830054724983, J01 = 0.3454\n",
      "it 4 : Jsur = 0.4219517541867341, J01 = 0.322\n",
      "it 8 : Jsur = 0.4223957821420998, J01 = 0.3244\n",
      "it 16 : Jsur = 0.42292342977437947, J01 = 0.3264\n",
      "it 32 : Jsur = 0.42320276924057926, J01 = 0.3262\n",
      "it 64 : Jsur = 0.4237229929132943, J01 = 0.3266\n",
      "it 128 : Jsur = 0.4243747440654962, J01 = 0.3284\n",
      "it 256 : Jsur = 0.42501063864346017, J01 = 0.33\n",
      "it 1 : Jsur = 0.43013860525847786, J01 = 0.3454\n",
      "it 2 : Jsur = 0.42272367750468565, J01 = 0.3454\n",
      "it 4 : Jsur = 0.41903620452733115, J01 = 0.3166\n",
      "it 8 : Jsur = 0.4192627290163874, J01 = 0.3246\n",
      "it 16 : Jsur = 0.4200343525753111, J01 = 0.3246\n",
      "it 32 : Jsur = 0.4199317119293608, J01 = 0.3234\n",
      "it 64 : Jsur = 0.4197834196405704, J01 = 0.3218\n",
      "it 128 : Jsur = 0.4198355084897309, J01 = 0.3216\n",
      "it 256 : Jsur = 0.4199091668369239, J01 = 0.3228\n",
      "it 1 : Jsur = 0.43076055618371273, J01 = 0.3454\n",
      "it 2 : Jsur = 0.4230513677579499, J01 = 0.3288\n",
      "it 4 : Jsur = 0.41818798433151366, J01 = 0.3108\n",
      "it 8 : Jsur = 0.4167313242279575, J01 = 0.3152\n",
      "it 16 : Jsur = 0.4154618569977592, J01 = 0.3134\n",
      "it 32 : Jsur = 0.41407262530711925, J01 = 0.3116\n",
      "it 64 : Jsur = 0.41317872965745756, J01 = 0.308\n",
      "it 128 : Jsur = 0.41419238355198285, J01 = 0.3088\n",
      "it 256 : Jsur = 0.41492469919353697, J01 = 0.3128\n",
      "it 1 : Jsur = 0.4299124808483749, J01 = 0.3454\n",
      "it 2 : Jsur = 0.423296512465319, J01 = 0.3454\n",
      "it 4 : Jsur = 0.4199092907943008, J01 = 0.3156\n",
      "it 8 : Jsur = 0.41952083693374986, J01 = 0.324\n",
      "it 16 : Jsur = 0.41881486765086373, J01 = 0.3212\n",
      "it 32 : Jsur = 0.41817268385180917, J01 = 0.3172\n",
      "it 64 : Jsur = 0.41773638680099173, J01 = 0.3158\n",
      "it 128 : Jsur = 0.41737409456956664, J01 = 0.313\n",
      "it 1 : Jsur = 0.4290205600140115, J01 = 0.3454\n",
      "it 2 : Jsur = 0.4213892682189672, J01 = 0.3238\n",
      "it 4 : Jsur = 0.4169599832336241, J01 = 0.3126\n",
      "it 8 : Jsur = 0.41590344762084297, J01 = 0.3154\n",
      "it 16 : Jsur = 0.4131385489936268, J01 = 0.3122\n",
      "it 32 : Jsur = 0.4097448456236623, J01 = 0.31\n",
      "it 64 : Jsur = 0.4085060856806732, J01 = 0.3064\n",
      "it 128 : Jsur = 0.4089147547842748, J01 = 0.3068\n",
      "it 256 : Jsur = 0.40943704760760763, J01 = 0.3116\n",
      "it 1 : Jsur = 0.42960903519435867, J01 = 0.3454\n",
      "it 2 : Jsur = 0.4217363294937411, J01 = 0.3248\n",
      "it 4 : Jsur = 0.4168051356717824, J01 = 0.31\n",
      "it 8 : Jsur = 0.41526246709663756, J01 = 0.3132\n",
      "it 16 : Jsur = 0.41251994797409436, J01 = 0.307\n",
      "it 32 : Jsur = 0.40866450226224504, J01 = 0.301\n",
      "it 64 : Jsur = 0.4046881983760139, J01 = 0.3024\n",
      "it 128 : Jsur = 0.4020803965278983, J01 = 0.2988\n",
      "it 256 : Jsur = 0.4001914516815521, J01 = 0.297\n",
      "it 1 : Jsur = 0.429032601832447, J01 = 0.3454\n",
      "it 2 : Jsur = 0.42221217911985826, J01 = 0.3264\n",
      "it 4 : Jsur = 0.4168947449480689, J01 = 0.3102\n",
      "it 8 : Jsur = 0.41524153596847346, J01 = 0.3118\n",
      "it 16 : Jsur = 0.4135576409827646, J01 = 0.309\n",
      "it 32 : Jsur = 0.41047590590486255, J01 = 0.303\n",
      "it 64 : Jsur = 0.4061548186045488, J01 = 0.2982\n",
      "it 128 : Jsur = 0.4024562896609561, J01 = 0.2968\n",
      "it 256 : Jsur = 0.3992907208562406, J01 = 0.2936\n",
      "it 1 : Jsur = 0.42945112610405195, J01 = 0.3454\n",
      "it 2 : Jsur = 0.42157849910185724, J01 = 0.3258\n",
      "it 4 : Jsur = 0.41685747850422405, J01 = 0.3108\n",
      "it 8 : Jsur = 0.4153801992343824, J01 = 0.315\n",
      "it 16 : Jsur = 0.4128807669022357, J01 = 0.3102\n",
      "it 32 : Jsur = 0.40997367775211685, J01 = 0.3088\n",
      "it 64 : Jsur = 0.40956682256942945, J01 = 0.3102\n",
      "it 128 : Jsur = 0.410896758278292, J01 = 0.3136\n",
      "it 256 : Jsur = 0.4114630064984376, J01 = 0.312\n",
      "it 1 : Jsur = 0.4287058863708692, J01 = 0.3454\n",
      "it 2 : Jsur = 0.4225349064023047, J01 = 0.3272\n",
      "it 4 : Jsur = 0.41727393907028554, J01 = 0.31\n",
      "it 8 : Jsur = 0.41540047652407286, J01 = 0.313\n",
      "it 16 : Jsur = 0.4134350496908952, J01 = 0.3108\n",
      "it 32 : Jsur = 0.41048126997818507, J01 = 0.307\n",
      "it 64 : Jsur = 0.4079779998949332, J01 = 0.3022\n",
      "it 128 : Jsur = 0.4051533525198143, J01 = 0.3004\n",
      "it 256 : Jsur = 0.40055563842542047, J01 = 0.2972\n",
      "it 1 : Jsur = 0.43012299980520263, J01 = 0.3454\n",
      "it 2 : Jsur = 0.4215108981906131, J01 = 0.3256\n",
      "it 4 : Jsur = 0.4158925628908766, J01 = 0.309\n",
      "it 8 : Jsur = 0.4147444086517229, J01 = 0.3088\n",
      "it 16 : Jsur = 0.41284973404113406, J01 = 0.3062\n",
      "it 32 : Jsur = 0.4098315787017069, J01 = 0.303\n",
      "it 64 : Jsur = 0.4068888904658235, J01 = 0.3006\n",
      "it 128 : Jsur = 0.4054234335229372, J01 = 0.2998\n",
      "it 256 : Jsur = 0.4037844748197587, J01 = 0.2972\n",
      "it 1 : Jsur = 0.4290581753048704, J01 = 0.3454\n",
      "it 2 : Jsur = 0.4223595863838358, J01 = 0.3276\n",
      "it 4 : Jsur = 0.41665084511898415, J01 = 0.31\n",
      "it 8 : Jsur = 0.4145451380933673, J01 = 0.3132\n",
      "it 16 : Jsur = 0.4127079093284079, J01 = 0.3082\n",
      "it 32 : Jsur = 0.4096538174105677, J01 = 0.3034\n",
      "it 64 : Jsur = 0.4064210849250925, J01 = 0.3008\n",
      "it 128 : Jsur = 0.4035745363328767, J01 = 0.3012\n",
      "it 256 : Jsur = 0.40031365901052757, J01 = 0.3002\n",
      "it 1 : Jsur = 0.43136817830882035, J01 = 0.3454\n",
      "it 2 : Jsur = 0.4229477513379143, J01 = 0.3284\n",
      "it 4 : Jsur = 0.41625589944121055, J01 = 0.3084\n",
      "it 8 : Jsur = 0.4144531613145371, J01 = 0.3092\n",
      "it 16 : Jsur = 0.4122357926602912, J01 = 0.3084\n",
      "it 32 : Jsur = 0.40831142026931083, J01 = 0.3022\n",
      "it 64 : Jsur = 0.4053196284834055, J01 = 0.2974\n",
      "it 128 : Jsur = 0.4021243959754152, J01 = 0.2952\n",
      "it 256 : Jsur = 0.3992903824577717, J01 = 0.293\n",
      "it 1 : Jsur = 0.4297249764875419, J01 = 0.3454\n",
      "it 2 : Jsur = 0.42291715420790743, J01 = 0.3294\n",
      "it 4 : Jsur = 0.4165515074165744, J01 = 0.3084\n",
      "it 8 : Jsur = 0.4141186070973521, J01 = 0.3134\n",
      "it 16 : Jsur = 0.41211117304284955, J01 = 0.3092\n",
      "it 32 : Jsur = 0.40908605870549675, J01 = 0.3036\n",
      "it 64 : Jsur = 0.4068585426712193, J01 = 0.2976\n",
      "it 128 : Jsur = 0.4050502831777462, J01 = 0.2978\n",
      "it 256 : Jsur = 0.40372471799692905, J01 = 0.2984\n",
      "it 1 : Jsur = 0.4291941500281872, J01 = 0.3454\n",
      "it 2 : Jsur = 0.4227894265618673, J01 = 0.327\n",
      "it 4 : Jsur = 0.4172577799486331, J01 = 0.3108\n",
      "it 8 : Jsur = 0.41482534593028575, J01 = 0.315\n",
      "it 16 : Jsur = 0.4124046564386779, J01 = 0.3094\n",
      "it 32 : Jsur = 0.4092856328868244, J01 = 0.3054\n",
      "it 64 : Jsur = 0.4060123918479182, J01 = 0.303\n",
      "it 128 : Jsur = 0.40151550338399844, J01 = 0.2974\n",
      "it 256 : Jsur = 0.396566584770366, J01 = 0.2928\n",
      "it 1 : Jsur = 0.42829726173222443, J01 = 0.3456\n",
      "it 2 : Jsur = 0.42234942992536534, J01 = 0.3238\n",
      "it 4 : Jsur = 0.4174027848117599, J01 = 0.3132\n",
      "it 8 : Jsur = 0.41565889148053886, J01 = 0.3156\n",
      "it 16 : Jsur = 0.41304566228477435, J01 = 0.312\n",
      "it 32 : Jsur = 0.40850339529430024, J01 = 0.306\n",
      "it 64 : Jsur = 0.40482904669914976, J01 = 0.3002\n",
      "it 128 : Jsur = 0.4016288333702511, J01 = 0.2984\n",
      "it 256 : Jsur = 0.39756319424223846, J01 = 0.2956\n",
      "[[0.65440451 0.65899436 0.66392645 0.67039212]\n",
      " [0.66035704 0.67844612 0.69159435 0.69308326]\n",
      " [0.67581152 0.69114959 0.68262553 0.69118585]\n",
      " [0.6915556  0.68245799 0.70177927 0.7004848 ]]\n",
      "[[0.65386077 0.65334419 0.65563091 0.66190099]\n",
      " [0.65621876 0.6644349  0.67077188 0.66794486]\n",
      " [0.66383313 0.66647568 0.67074886 0.67044022]\n",
      " [0.6659303  0.66221927 0.67033728 0.67550713]]\n"
     ]
    }
   ],
   "source": [
    "L = range(1,5,1) # Or something else \n",
    "N = range(2,6,1) # Or something else \n",
    "\n",
    "tr_auc = np.zeros((len(L),len(N))) \n",
    "va_auc = np.zeros((len(L),len(N))) \n",
    "\n",
    "nn = ml.nnet.nnetClassify()\n",
    "for i,l in enumerate(L):\n",
    "    for j,n in enumerate(N):\n",
    "        nn.init_weights([XtS.shape[1], l*n, 2], 'random', XtS, Yt) # as many layers nodes you want    \n",
    "        nn.train(XtS, Yt, stopTol=1e-8, stepsize=.25, stopIter=300)\n",
    "        tr_auc[i][j] = nn.auc(XtS, Yt) # train learner using k and a \n",
    "        va_auc[i][j] = nn.auc(XvS[:5000], Yva[:5000])\n",
    "        \n",
    "print(tr_auc)\n",
    "print(va_auc)"
   ]
  },
  {
   "cell_type": "code",
   "execution_count": 111,
   "metadata": {},
   "outputs": [
    {
     "data": {
      "image/png": "[encoded data removed]",
      "text/plain": [
       "<Figure size 576x360 with 2 Axes>"
      ]
     },
     "metadata": {
      "needs_background": "light"
     },
     "output_type": "display_data"
    }
   ],
   "source": [
    "f, ax = plt.subplots(1, 1, figsize=(8, 5))\n",
    "\n",
    "cax = ax.matshow(tr_auc, interpolation='nearest')\n",
    "f.colorbar(cax1)\n",
    "ax.set_xticklabels(['']+list(N))\n",
    "ax.set_yticklabels(['']+list(L))\n",
    "ax.set_xlabel('node')\n",
    "ax.set_ylabel('layer')\n",
    "\n",
    "plt.show()"
   ]
  },
  {
   "cell_type": "code",
   "execution_count": 113,
   "metadata": {},
   "outputs": [
    {
     "data": {
      "image/png": "[encoded data removed]",
      "text/plain": [
       "<Figure size 576x360 with 2 Axes>"
      ]
     },
     "metadata": {
      "needs_background": "light"
     },
     "output_type": "display_data"
    }
   ],
   "source": [
    "f, ax = plt.subplots(1, 1, figsize=(8, 5))\n",
    "\n",
    "cax = ax.matshow(va_auc, interpolation='nearest')\n",
    "f.colorbar(cax1)\n",
    "ax.set_xticklabels(['']+list(N))\n",
    "ax.set_yticklabels(['']+list(L))\n",
    "ax.set_xlabel('node')\n",
    "ax.set_ylabel('layer')\n",
    "\n",
    "plt.show()"
   ]
  },
  {
   "cell_type": "markdown",
   "metadata": {},
   "source": [
    "node = 4, layer = 2"
   ]
  },
  {
   "cell_type": "markdown",
   "metadata": {},
   "source": [
    "## Q2"
   ]
  },
  {
   "cell_type": "markdown",
   "metadata": {},
   "source": []
  },
  {
   "cell_type": "markdown",
   "metadata": {},
   "source": [
    "I did this homework alone."
   ]
  }
 ],
 "metadata": {
  "kernelspec": {
   "display_name": "Python 3",
   "language": "python",
   "name": "python3"
  },
  "language_info": {
   "codemirror_mode": {
    "name": "ipython",
    "version": 3
   },
   "file_extension": ".py",
   "mimetype": "text/x-python",
   "name": "python",
   "nbconvert_exporter": "python",
   "pygments_lexer": "ipython3",
   "version": "3.7.4"
  }
 },
 "nbformat": 4,
 "nbformat_minor": 2
}
